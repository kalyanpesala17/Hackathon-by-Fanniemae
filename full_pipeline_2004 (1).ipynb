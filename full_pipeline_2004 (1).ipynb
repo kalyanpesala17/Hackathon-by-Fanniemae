{
 "cells": [
  {
   "cell_type": "code",
   "execution_count": 0,
   "metadata": {
    "colab": {},
    "colab_type": "code",
    "id": "YXYNGLB3BTI-"
   },
   "outputs": [],
   "source": [
    "import os\n",
    "import glob\n",
    "import pandas as pd\n",
    "import numpy as np\n",
    "\n",
    "import seaborn as sns\n",
    "import matplotlib.pyplot as plt\n",
    "%matplotlib inline\n",
    "\n",
    "from sklearn.metrics import accuracy_score\n",
    "\n",
    "import warnings\n",
    "warnings.filterwarnings('ignore')\n",
    "\n",
    "from sklearn.pipeline import Pipeline\n",
    "from sklearn.preprocessing import StandardScaler\n",
    "\n",
    "from sklearn.model_selection import train_test_split\n",
    "from sklearn.base import BaseEstimator, TransformerMixin\n",
    "\n",
    "from sklearn.tree import DecisionTreeClassifier\n",
    "from sklearn.model_selection import GridSearchCV\n",
    "from sklearn.model_selection import cross_val_score\n",
    "from sklearn.metrics import confusion_matrix\n",
    "from sklearn.feature_selection import SelectFromModel\n",
    "\n",
    "from sklearn.ensemble import RandomForestClassifier\n",
    "from sklearn.model_selection import RandomizedSearchCV\n",
    "from scipy.stats import expon, reciprocal\n",
    "from sklearn.svm import SVC\n",
    "\n",
    "from sklearn.metrics import make_scorer\n",
    "from sklearn.metrics import precision_score\n",
    "from sklearn.metrics import f1_score\n",
    "\n",
    "from imblearn.over_sampling import SMOTE\n",
    "from imblearn.under_sampling import RandomUnderSampler\n",
    "\n",
    "from sklearn.metrics import precision_recall_curve\n",
    "\n",
    "_2004 = pd.read_csv('2004.csv')\n",
    "_2004.drop('Unnamed: 0',axis = 1,inplace = True)"
   ]
  },
  {
   "cell_type": "markdown",
   "metadata": {
    "colab_type": "text",
    "id": "dfEBHsZy80YM"
   },
   "source": [
    "## Metric - Weighted Precision"
   ]
  },
  {
   "cell_type": "code",
   "execution_count": 0,
   "metadata": {
    "colab": {},
    "colab_type": "code",
    "id": "HD5SBR8vBTJL"
   },
   "outputs": [],
   "source": [
    "pre_scorer = make_scorer(precision_score, average = 'weighted')\n",
    "\n",
    "def weighted_precision(confmat):\n",
    "    return np.sum(((np.diag(confmat) / np.sum(confmat, axis = 0)) * np.sum(confmat, axis = 1))) / np.sum(confmat)\n",
    "\n",
    "def weighted_recall(confmat):\n",
    "    return np.sum(((np.diag(confmat) / np.sum(confmat, axis = 1)) * np.sum(confmat, axis = 1))) / np.sum(confmat)"
   ]
  },
  {
   "cell_type": "code",
   "execution_count": 0,
   "metadata": {
    "colab": {},
    "colab_type": "code",
    "id": "WZKv-HfVBTJU"
   },
   "outputs": [],
   "source": [
    "def report(model,pipeline):\n",
    "    if not pipeline:\n",
    "        y_pred = model.predict(X_test_prepared)\n",
    "    else:\n",
    "        y_pred = model.predict(X_test)\n",
    "    confmat = confusion_matrix(y_true=y_test, y_pred=y_pred)\n",
    "    print('Test weighted macro precision : %.3f' % weighted_precision(confmat))\n",
    "    print('Test weighted macro recall : %.3f' % weighted_recall(confmat))\n",
    "    print('Test weighted F1 score : %.3f' % f1_score(y_test, y_pred, average='weighted'))\n",
    "\n",
    "    fig, ax = plt.subplots(figsize=(4, 4))\n",
    "    ax.matshow(confmat, cmap=plt.cm.Blues, alpha=0.3)\n",
    "    for i in range(confmat.shape[0]):\n",
    "        for j in range(confmat.shape[1]):\n",
    "            ax.text(x=j, y=i, s=confmat[i, j], va='center', ha='center')\n",
    "\n",
    "    plt.xlabel('Predicted label')\n",
    "    plt.ylabel('True label')\n",
    "\n",
    "    plt.tight_layout()\n",
    "    plt.show()\n",
    "\n",
    "\n",
    "    "
   ]
  },
  {
   "cell_type": "markdown",
   "metadata": {
    "colab_type": "text",
    "id": "Y0YbWjrmBTJc"
   },
   "source": [
    "## Preprocessing Pipeline"
   ]
  },
  {
   "cell_type": "code",
   "execution_count": 0,
   "metadata": {
    "colab": {},
    "colab_type": "code",
    "id": "yF_N8v6nBTJf"
   },
   "outputs": [],
   "source": [
    "#preprocessing pipeline\n",
    "#split train test\n",
    "X = _2004.drop('Current_Status',axis = 1)\n",
    "y = _2004.Current_Status\n",
    "\n",
    "X_train, X_test, y_train, y_test =  train_test_split(X, y, test_size=0.1, \n",
    "                     stratify=y,\n",
    "                     random_state=0)\n",
    "\n",
    "class Preprocess(BaseEstimator, TransformerMixin):\n",
    "    def __init__(self,columns,cleanup_nums): \n",
    "        self.columns = columns\n",
    "        self.cleanup_nums = cleanup_nums\n",
    "    def fit(self, X, y=None):\n",
    "        return self  # nothing else to do\n",
    "    def transform(self, X):\n",
    "        X =  X.drop(self.columns,axis=1)\n",
    "        X = X.replace(self.cleanup_nums)\n",
    "        return pd.get_dummies(X, drop_first=True)\n",
    "        \n",
    "\n",
    "drop_cols = ['Loan_ID','Origination_Date','First_Payment_Date','Zip','Product','Period','Zero_Bal_Cd','Origin_Month','Origin_Year','Seller','State']\n",
    "\n",
    "#ordinal\n",
    "cleanup_nums = {\"Relocation_Indicator\":{\"N\":0,\"Y\":1},\n",
    "                \"Mod_Ind\":{\"N\":0,\"Y\":1},\n",
    "                \"FICO_bins\":{\"0-620\": 0, \"620-660\": 1, \"660-700\": 2, \"700-740\": 3,\"740-780\": 4, \"780+\": 5 },\n",
    "                \"Term_bins\":{\"<= 30 Years\": 1, \"<=15 Years\": 0},\n",
    "                \"Current_Status\" : {\"Prepaid\" : 1, \"Current\" : 0, \"Underperforming\" : 2}}\n",
    "\n",
    "full_pre_pipeline = Pipeline([\n",
    "        (\"preprocess\", Preprocess(drop_cols,cleanup_nums)),\n",
    "        (\"scaler\", StandardScaler()),\n",
    "    ])\n",
    "\n",
    "X_train_prepared = full_pre_pipeline.fit_transform(X_train)\n",
    "X_test_prepared = full_pre_pipeline.transform(X_test)\n",
    "\n",
    "p = Preprocess(drop_cols,cleanup_nums)\n",
    "cols_for_importance = p.fit_transform(X_train).columns"
   ]
  },
  {
   "cell_type": "markdown",
   "metadata": {
    "colab_type": "text",
    "id": "r9sW8HJLBTJp"
   },
   "source": [
    "## Fine Tuning dtree"
   ]
  },
  {
   "cell_type": "code",
   "execution_count": 120,
   "metadata": {
    "colab": {
     "base_uri": "https://localhost:8080/",
     "height": 416
    },
    "colab_type": "code",
    "id": "258WUEjuBTJr",
    "outputId": "a0d39794-1277-4d36-a047-43d2169da036"
   },
   "outputs": [
    {
     "name": "stdout",
     "output_type": "stream",
     "text": [
      "best params : {'max_depth': 5}\n",
      "best score : 0.9497656801450376\n",
      "CV for dtree: 0.949 +/- 0.002\n",
      "--------------------------------Test-------------------------------------------\n",
      "Test weighted macro precision : 0.954\n",
      "Test weighted macro recall : 0.962\n",
      "Test weighted F1 score : 0.949\n"
     ]
    },
    {
     "data": {
      "image/png": "[encoded data removed]",
      "text/plain": [
       "<Figure size 288x288 with 1 Axes>"
      ]
     },
     "metadata": {
      "tags": []
     },
     "output_type": "display_data"
    }
   ],
   "source": [
    "gs_dtree = GridSearchCV(estimator=DecisionTreeClassifier(random_state=0),\n",
    "                  param_grid=[{'max_depth': [1, 2, 3, 4, 5, 6, 7, None]}],\n",
    "                  scoring=pre_scorer,\n",
    "                  cv=5,refit = True)\n",
    "\n",
    "gs_dtree.fit(X_train_prepared, y_train)\n",
    "print('best params : {}'.format(gs_dtree.best_params_))\n",
    "print('best score : {}'.format(gs_dtree.best_score_))\n",
    "\n",
    "scores = cross_val_score(gs_dtree, X_train_prepared, y_train, \n",
    "                         scoring=pre_scorer, cv=5)\n",
    "\n",
    "\n",
    "print('CV for dtree: %.3f +/- %.3f' % (np.mean(scores), \n",
    "                                      np.std(scores)))\n",
    "\n",
    "print('--------------------------------Test-------------------------------------------')\n",
    "report(gs_dtree, False)"
   ]
  },
  {
   "cell_type": "markdown",
   "metadata": {
    "colab_type": "text",
    "id": "rkBMWJkY9FHO"
   },
   "source": [
    "## Feature Selection Pipeline\n",
    "To Reduce the Computation time."
   ]
  },
  {
   "cell_type": "code",
   "execution_count": 126,
   "metadata": {
    "colab": {
     "base_uri": "https://localhost:8080/",
     "height": 348
    },
    "colab_type": "code",
    "id": "i3q-2JpRBTJ2",
    "outputId": "095fcb01-cfdb-4f36-83a6-0b6f262f4564"
   },
   "outputs": [
    {
     "name": "stdout",
     "output_type": "stream",
     "text": [
      "Test weighted macro precision : 0.954\n",
      "Test weighted macro recall : 0.962\n",
      "Test weighted F1 score : 0.949\n"
     ]
    },
    {
     "data": {
      "image/png": "[encoded data removed]",
      "text/plain": [
       "<Figure size 288x288 with 1 Axes>"
      ]
     },
     "metadata": {
      "tags": []
     },
     "output_type": "display_data"
    }
   ],
   "source": [
    "pipe_dtree_selected = Pipeline([('full_preprocess' , full_pre_pipeline),\n",
    "          ('selected_features',SelectFromModel(DecisionTreeClassifier(**gs_dtree.best_params_,random_state = 0),\n",
    "                                                                    threshold=-np.inf,max_features = 10)),\n",
    "          ('decision_tree', DecisionTreeClassifier(**gs_dtree.best_params_,random_state = 0))\n",
    "                                      ])\n",
    "\n",
    "pipe_dtree_selected.fit(X_train,y_train)\n",
    "\n",
    "report(pipe_dtree_selected, True)"
   ]
  },
  {
   "cell_type": "markdown",
   "metadata": {
    "colab_type": "text",
    "id": "f8L89K3c9hC1"
   },
   "source": [
    "## Grid Search For Number Of Features"
   ]
  },
  {
   "cell_type": "code",
   "execution_count": 127,
   "metadata": {
    "colab": {
     "base_uri": "https://localhost:8080/",
     "height": 399
    },
    "colab_type": "code",
    "id": "jkUmEWztBTJ-",
    "outputId": "fde637d2-0dd9-412e-a433-1277e35a6906"
   },
   "outputs": [
    {
     "name": "stdout",
     "output_type": "stream",
     "text": [
      "best params : {'selected_features__max_features': 3}\n",
      "best score : 0.9521066078511454\n",
      "--------------------------------Test-------------------------------------------\n",
      "Test weighted macro precision : 0.953\n",
      "Test weighted macro recall : 0.961\n",
      "Test weighted F1 score : 0.949\n"
     ]
    },
    {
     "data": {
      "image/png": "[encoded data removed]",
      "text/plain": [
       "<Figure size 288x288 with 1 Axes>"
      ]
     },
     "metadata": {
      "tags": []
     },
     "output_type": "display_data"
    }
   ],
   "source": [
    "param_grid = [{\n",
    "    'selected_features__max_features': list(range(1, len(cols_for_importance) + 1))\n",
    "}]\n",
    "\n",
    "gs_features_dtree = GridSearchCV(pipe_dtree_selected, param_grid, cv=5,\n",
    "                                scoring=pre_scorer)\n",
    "\n",
    "gs_features_dtree.fit(X_train, y_train)\n",
    "print('best params : {}'.format(gs_features_dtree.best_params_))\n",
    "print('best score : {}'.format(gs_features_dtree.best_score_))\n",
    "\n",
    "print('--------------------------------Test-------------------------------------------')\n",
    "report(gs_features_dtree, True)"
   ]
  },
  {
   "cell_type": "markdown",
   "metadata": {
    "colab_type": "text",
    "id": "gU6IpAFvBTKH"
   },
   "source": [
    "## Fine Tune Random Forests"
   ]
  },
  {
   "cell_type": "code",
   "execution_count": 112,
   "metadata": {
    "colab": {
     "base_uri": "https://localhost:8080/",
     "height": 348
    },
    "colab_type": "code",
    "id": "pk8f2NZiBTKJ",
    "outputId": "5ebaf079-42b5-4095-ce32-169e9131e484"
   },
   "outputs": [
    {
     "name": "stdout",
     "output_type": "stream",
     "text": [
      "Test weighted macro precision : 0.952\n",
      "Test weighted macro recall : 0.961\n",
      "Test weighted F1 score : 0.949\n"
     ]
    },
    {
     "data": {
      "image/png": "[encoded data removed]",
      "text/plain": [
       "<Figure size 288x288 with 1 Axes>"
      ]
     },
     "metadata": {
      "tags": []
     },
     "output_type": "display_data"
    }
   ],
   "source": [
    "gs_rf = GridSearchCV(estimator=RandomForestClassifier(random_state=0),\n",
    "                  param_grid= {'n_estimators': [10,100,300],'max_features' : ['auto', 'sqrt']},\n",
    "                  scoring=pre_scorer,\n",
    "                  cv=5,refit = True)\n",
    "\n",
    "gs_rf.fit(X_train_prepared, y_train)\n",
    "print('best params : {}'.format(gs_rf.best_params_))\n",
    "print('best score : {}'.format(gs_rf.best_score_))\n",
    "print('--------------------------------Test-------------------------------------------')\n",
    "report(gs_rf, False)\n",
    "\n",
    "rf = gs_rf.best_estimator_\n",
    "importances = rf.feature_importances_\n",
    "\n",
    "indices = np.argsort(importances)[::-1]\n",
    "\n",
    "for f in range(X_train_prepared.shape[1]):\n",
    "    print(\"%2d) %-*s %f\" % (f + 1, 30, \n",
    "                            cols_for_importance[indices[f]], \n",
    "                            importances[indices[f]]))"
   ]
  },
  {
   "cell_type": "markdown",
   "metadata": {
    "colab_type": "text",
    "id": "dWKk-LHx9wcz"
   },
   "source": [
    "## Feature Selection"
   ]
  },
  {
   "cell_type": "code",
   "execution_count": 7,
   "metadata": {
    "colab": {
     "base_uri": "https://localhost:8080/",
     "height": 348
    },
    "colab_type": "code",
    "id": "hV0C9s-CBTKQ",
    "outputId": "83404b5a-13b6-4100-d865-2a5fe3def4c2"
   },
   "outputs": [
    {
     "name": "stdout",
     "output_type": "stream",
     "text": [
      "Test weighted macro precision : 0.952\n",
      "Test weighted macro recall : 0.962\n",
      "Test weighted F1 score : 0.951\n"
     ]
    },
    {
     "data": {
      "image/png": "[encoded data removed]",
      "text/plain": [
       "<Figure size 288x288 with 1 Axes>"
      ]
     },
     "metadata": {
      "tags": []
     },
     "output_type": "display_data"
    }
   ],
   "source": [
    "pipe_rf_selected = Pipeline([('full_preprocess' , full_pre_pipeline),\n",
    "          ('selected_features',SelectFromModel(RandomForestClassifier(**gs_rf.best_params_,random_state = 0),\n",
    "                                                                    threshold=-np.inf,max_features = 10)),\n",
    "          ('random_forest', RandomForestClassifier(**gs_rf.best_params_,random_state = 0))\n",
    "                                      ])\n",
    "\n",
    "pipe_rf_selected.fit(X_train,y_train)\n",
    "\n",
    "report(pipe_rf_selected, True)"
   ]
  },
  {
   "cell_type": "markdown",
   "metadata": {
    "colab_type": "text",
    "id": "6go-NWb6-AL0"
   },
   "source": [
    "## Grid Search For Number Of Features"
   ]
  },
  {
   "cell_type": "code",
   "execution_count": 63,
   "metadata": {
    "colab": {
     "base_uri": "https://localhost:8080/",
     "height": 399
    },
    "colab_type": "code",
    "id": "9eKSt9xEBTKa",
    "outputId": "ee3caab0-cf65-4503-c61f-db400d869608"
   },
   "outputs": [
    {
     "name": "stdout",
     "output_type": "stream",
     "text": [
      "best params : {'selected_features__max_features': 3}\n",
      "best score : 0.9575914383110075\n",
      "--------------------------------Test-------------------------------------------\n",
      "Test weighted macro precision : 0.960\n",
      "Test weighted macro recall : 0.966\n",
      "Test weighted F1 score : 0.958\n"
     ]
    },
    {
     "data": {
      "image/png": "[encoded data removed]",
      "text/plain": [
       "<Figure size 288x288 with 1 Axes>"
      ]
     },
     "metadata": {
      "tags": []
     },
     "output_type": "display_data"
    }
   ],
   "source": [
    "param_grid = [{\n",
    "    'selected_features__max_features': list(range(1, len(cols_for_importance) + 1))\n",
    "}]\n",
    "\n",
    "gs_features = GridSearchCV(pipe_rf_selected, param_grid, cv=5,\n",
    "                                scoring=pre_scorer)\n",
    "\n",
    "gs_features.fit(X_train, y_train)\n",
    "print('best params : {}'.format(gs_features.best_params_))\n",
    "print('best score : {}'.format(gs_features.best_score_))\n",
    "\n",
    "print('--------------------------------Test-------------------------------------------')\n",
    "report(gs_features, True)"
   ]
  },
  {
   "cell_type": "markdown",
   "metadata": {
    "colab_type": "text",
    "id": "p_qSsIg1BTLN"
   },
   "source": [
    "## Over Sampling And Under Sampling\n",
    "To improve the perfomance of minority classes"
   ]
  },
  {
   "cell_type": "code",
   "execution_count": 115,
   "metadata": {
    "colab": {
     "base_uri": "https://localhost:8080/",
     "height": 34
    },
    "colab_type": "code",
    "id": "bDfTOoxcfEFl",
    "outputId": "cd780ee7-49af-4554-94da-1f50f796f773"
   },
   "outputs": [
    {
     "data": {
      "text/plain": [
       "(120000, 31)"
      ]
     },
     "execution_count": 115,
     "metadata": {
      "tags": []
     },
     "output_type": "execute_result"
    }
   ],
   "source": [
    "over2 = SMOTE(sampling_strategy={'Current' : 40000, 'Underperforming' : 40000})\n",
    "X_over, y_over = over2.fit_resample(X_train_prepared,y_train)\n",
    "\n",
    "from imblearn.under_sampling import RandomUnderSampler\n",
    "under = RandomUnderSampler(sampling_strategy='auto')\n",
    "\n",
    "X_over, y_over = under.fit_resample(X_over,y_over)\n",
    "X_over.shape"
   ]
  },
  {
   "cell_type": "code",
   "execution_count": 59,
   "metadata": {
    "colab": {
     "base_uri": "https://localhost:8080/",
     "height": 348
    },
    "colab_type": "code",
    "id": "TuonCukzjstQ",
    "outputId": "f69e03e2-ea91-4499-ad01-ec46ffaf7547"
   },
   "outputs": [
    {
     "name": "stdout",
     "output_type": "stream",
     "text": [
      "Test weighted macro precision : 0.949\n",
      "Test weighted macro recall : 0.945\n",
      "Test weighted F1 score : 0.946\n"
     ]
    },
    {
     "data": {
      "image/png": "[encoded data removed]",
      "text/plain": [
       "<Figure size 288x288 with 1 Axes>"
      ]
     },
     "metadata": {
      "tags": []
     },
     "output_type": "display_data"
    }
   ],
   "source": [
    "rf_sampling = RandomForestClassifier(**gs_rf.best_params_)\n",
    "rf_sampling.fit(X_over, y_over)\n",
    "\n",
    "report(rf_sampling, False)"
   ]
  },
  {
   "cell_type": "code",
   "execution_count": 62,
   "metadata": {
    "colab": {
     "base_uri": "https://localhost:8080/",
     "height": 926
    },
    "colab_type": "code",
    "id": "5huQezT6pJF0",
    "outputId": "d999260d-02d6-4af2-ed17-6f2dc6b34352"
   },
   "outputs": [
    {
     "name": "stdout",
     "output_type": "stream",
     "text": [
      "best params : {'n_estimators': 300}\n",
      "best score : 0.9727646845441049\n",
      "--------------------------------Test-------------------------------------------\n",
      "Test weighted macro precision : 0.949\n",
      "Test weighted macro recall : 0.945\n",
      "Test weighted F1 score : 0.947\n"
     ]
    },
    {
     "data": {
      "image/png": "[encoded data removed]",
      "text/plain": [
       "<Figure size 288x288 with 1 Axes>"
      ]
     },
     "metadata": {
      "tags": []
     },
     "output_type": "display_data"
    },
    {
     "name": "stdout",
     "output_type": "stream",
     "text": [
      " 1) Age                            0.511218\n",
      " 2) FICO_bins                      0.067735\n",
      " 3) Current_UPB                    0.066154\n",
      " 4) Borrower_FICO                  0.043909\n",
      " 5) UPB                            0.038317\n",
      " 6) Current_IR                     0.035759\n",
      " 7) Interest_Rate                  0.035265\n",
      " 8) LTV                            0.030866\n",
      " 9) CLTV                           0.029803\n",
      "10) DTI                            0.026950\n",
      "11) Num_Borrowers                  0.020535\n",
      "12) Mod_Ind                        0.017593\n",
      "13) Loan_Term                      0.012629\n",
      "14) Insurance%                     0.009818\n",
      "15) Loan_Purpose_P                 0.007485\n",
      "16) Term_bins                      0.007296\n",
      "17) Channel_R                      0.006454\n",
      "18) Channel_C                      0.006072\n",
      "19) Dwelling_Type_SF               0.004799\n",
      "20) Loan_Purpose_R                 0.004307\n",
      "21) Mortgage_Insurance_Type        0.003750\n",
      "22) Occupancy_P                    0.002982\n",
      "23) First_Time_Buyer_Y             0.002949\n",
      "24) Dwelling_Type_PU               0.002577\n",
      "25) Unit_Count                     0.002023\n",
      "26) Occupancy_S                    0.001405\n",
      "27) Dwelling_Type_MH               0.000639\n",
      "28) Dwelling_Type_CP               0.000372\n",
      "29) Relocation_Indicator           0.000159\n",
      "30) Loan_Purpose_U                 0.000113\n",
      "31) First_Time_Buyer_U             0.000065\n"
     ]
    }
   ],
   "source": [
    "gs_rf_sampling = GridSearchCV(estimator=RandomForestClassifier(random_state=0),\n",
    "                  param_grid= {'n_estimators': [10,100,300,400]},\n",
    "                  scoring=pre_scorer,\n",
    "                  cv=5,refit = True)\n",
    "\n",
    "gs_rf_sampling.fit(X_over, y_over)\n",
    "print('best params : {}'.format(gs_rf_sampling.best_params_))\n",
    "print('best score : {}'.format(gs_rf_sampling.best_score_))\n",
    "print('--------------------------------Test-------------------------------------------')\n",
    "report(gs_rf_sampling, False)\n",
    "\n",
    "importances = gs_rf_sampling.best_estimator_.feature_importances_\n",
    "\n",
    "indices = np.argsort(importances)[::-1]\n",
    "\n",
    "for f in range(X_over.shape[1]):\n",
    "    print(\"%2d) %-*s %f\" % (f + 1, 30, \n",
    "                            cols_for_importance[indices[f]], \n",
    "                            importances[indices[f]]))"
   ]
  },
  {
   "cell_type": "code",
   "execution_count": 61,
   "metadata": {
    "colab": {
     "base_uri": "https://localhost:8080/",
     "height": 348
    },
    "colab_type": "code",
    "id": "vo4IOGWMBTK0",
    "outputId": "14dc2a1d-957e-4390-fb3b-e39e86b7ee39"
   },
   "outputs": [
    {
     "name": "stdout",
     "output_type": "stream",
     "text": [
      "Test weighted macro precision : 0.944\n",
      "Test weighted macro recall : 0.938\n",
      "Test weighted F1 score : 0.940\n"
     ]
    },
    {
     "data": {
      "image/png": "[encoded data removed]",
      "text/plain": [
       "<Figure size 288x288 with 1 Axes>"
      ]
     },
     "metadata": {
      "tags": []
     },
     "output_type": "display_data"
    }
   ],
   "source": [
    "pipe_rf_selected_sampling = Pipeline([\n",
    "          ('selected_features',SelectFromModel(RandomForestClassifier(**gs_rf_sampling.best_params_,random_state = 0),\n",
    "                                                                    threshold=-np.inf,max_features = 11)),\n",
    "          ('random_forest', RandomForestClassifier(**gs_rf_sampling.best_params_,random_state = 0))\n",
    "          ])\n",
    "\n",
    "pipe_rf_selected_sampling.fit(X_over,y_over)\n",
    "\n",
    "report(pipe_rf_selected_sampling, False)"
   ]
  },
  {
   "cell_type": "code",
   "execution_count": 0,
   "metadata": {
    "colab": {},
    "colab_type": "code",
    "id": "_TMoRvZjazCw"
   },
   "outputs": [],
   "source": [
    "param_grid = [{\n",
    "    'selected_features__max_features': list(range(1, len(cols_for_importance) + 1))\n",
    "}]\n",
    "\n",
    "gs_features_sampling = GridSearchCV(pipe_rf_selected_sampling, param_grid, cv=5,\n",
    "                                scoring=pre_scorer)\n",
    "\n",
    "gs_features_sampling.fit(X_train, y_train)\n",
    "print('best params : {}'.format(gs_features_sampling.best_params_))\n",
    "print('best score : {}'.format(gs_features_sampling.best_score_))\n",
    "\n",
    "print('--------------------------------Test-------------------------------------------')\n",
    "report(gs_features_sampling, True)"
   ]
  },
  {
   "cell_type": "code",
   "execution_count": 0,
   "metadata": {
    "colab": {},
    "colab_type": "code",
    "id": "4nOVWONsiVz6"
   },
   "outputs": [],
   "source": []
  }
 ],
 "metadata": {
  "colab": {
   "collapsed_sections": [],
   "name": "full_pipeline_2004.ipynb",
   "provenance": []
  },
  "kernelspec": {
   "display_name": "Python 3",
   "language": "python",
   "name": "python3"
  },
  "language_info": {
   "codemirror_mode": {
    "name": "ipython",
    "version": 3
   },
   "file_extension": ".py",
   "mimetype": "text/x-python",
   "name": "python",
   "nbconvert_exporter": "python",
   "pygments_lexer": "ipython3",
   "version": "3.7.2"
  }
 },
 "nbformat": 4,
 "nbformat_minor": 1
}
